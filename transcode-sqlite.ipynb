{
 "cells": [
  {
   "cell_type": "code",
   "execution_count": null,
   "id": "014e6200-d70d-4d93-ba8e-e1c4d8d3d5cc",
   "metadata": {},
   "outputs": [],
   "source": [
    "%load_ext dotenv\n",
    "%dotenv"
   ]
  },
  {
   "cell_type": "code",
   "execution_count": null,
   "id": "a95ab013-bab2-4ce2-a0da-7aa041f56443",
   "metadata": {},
   "outputs": [],
   "source": [
    "import ast\n",
    "from pathlib import Path\n",
    "import sqlite3\n",
    "\n",
    "import fsspec\n",
    "import pandas as pd\n",
    "from tqdm.notebook import tqdm_notebook"
   ]
  },
  {
   "cell_type": "code",
   "execution_count": null,
   "id": "412403ce-8f01-454d-8193-2aabff4a62c7",
   "metadata": {},
   "outputs": [],
   "source": [
    "fs = fsspec.filesystem(\"abfs\")\n",
    "CONTAINER = \"team1-3\"\n",
    "fs.ls(CONTAINER)"
   ]
  },
  {
   "cell_type": "code",
   "execution_count": null,
   "id": "7abc8b48-980d-4fa5-8f97-1864741e733a",
   "metadata": {},
   "outputs": [],
   "source": [
    "def path_blob(path):\n",
    "    return f\"{CONTAINER}/{path}\""
   ]
  },
  {
   "cell_type": "code",
   "execution_count": null,
   "id": "18e6b7dc-8020-405e-b27f-b141252c0a06",
   "metadata": {},
   "outputs": [],
   "source": [
    "path_db = \"April9.sqlite\"\n",
    "Path(path_db).unlink(missing_ok=True)"
   ]
  },
  {
   "cell_type": "markdown",
   "id": "8b4c5a4f-e65d-4b8a-81d5-c869b862c220",
   "metadata": {},
   "source": [
    "---"
   ]
  },
  {
   "cell_type": "markdown",
   "id": "b3a4b8cf-282f-430a-b721-421dce46e348",
   "metadata": {},
   "source": [
    "# Transcoding the April 9 data dump to a SQLite database\n",
    "\n",
    "tl;dr: just fetch the file off the Azure container"
   ]
  },
  {
   "cell_type": "code",
   "execution_count": null,
   "id": "e920917c-2f4f-44c5-ad81-993fdce11ccb",
   "metadata": {},
   "outputs": [],
   "source": [
    "fs.get(path_blob(path_db), path_db)"
   ]
  },
  {
   "cell_type": "markdown",
   "id": "242f7893-3283-4ae3-8d13-e94a2422262c",
   "metadata": {},
   "source": [
    "---\n",
    "\n",
    "## Doing the transcode boogie"
   ]
  },
  {
   "cell_type": "code",
   "execution_count": null,
   "id": "74018e85-63c9-40b8-b4aa-56330716ef6c",
   "metadata": {},
   "outputs": [],
   "source": [
    "def stream_beacons(path):\n",
    "    with fs.open(path_blob(path), mode=\"r\", encoding=\"utf-8\") as file:\n",
    "        for line in file:\n",
    "            yield ast.literal_eval(line)"
   ]
  },
  {
   "cell_type": "code",
   "execution_count": null,
   "id": "edd97086-1438-4bf5-9fa4-b812fd978535",
   "metadata": {},
   "outputs": [],
   "source": [
    "num_beacons = sum([1 for beacon in tqdm_notebook(stream_beacons(\"April9DataOnly.txt\"))])\n",
    "num_beacons"
   ]
  },
  {
   "cell_type": "code",
   "execution_count": null,
   "id": "13c197be-11e7-4894-b0f0-b32c3687bb6a",
   "metadata": {},
   "outputs": [],
   "source": [
    "with sqlite3.connect(path_db) as db:\n",
    "    db.execute(\"CREATE TABLE IF NOT EXISTS beacons(timestamp, manufacturerDataHex, rssi)\")\n",
    "    for beacon in tqdm_notebook(stream_beacons(\"April9DataOnly.txt\"), total=num_beacons):\n",
    "        db.execute(\n",
    "            \"INSERT INTO beacons(manufacturerDataHex, rssi) VALUES (?, ?)\",\n",
    "            (beacon[\"manufacturerDataHex\"], beacon[\"rssi\"])\n",
    "        )"
   ]
  },
  {
   "cell_type": "code",
   "execution_count": null,
   "id": "04d57b7c-30cd-4a6b-ba66-b5bf12a4530e",
   "metadata": {},
   "outputs": [],
   "source": [
    "with sqlite3.connect(path_db) as db:\n",
    "    cursor = db.cursor()\n",
    "    cursor.execute(\n",
    "        'SELECT rssi FROM beacons WHERE manufacturerDataHex = ?',\n",
    "        (\"4c00121900d27e0900d6ca0770107d075fbe7dd7e98b6692dd4f290000\",)\n",
    "    )\n",
    "    for i, (rssi,) in enumerate(cursor):\n",
    "        if i >= 5:\n",
    "            break\n",
    "        print(rssi)"
   ]
  },
  {
   "cell_type": "markdown",
   "id": "cc5957b9-c00f-4ecc-bdea-a2606676dd6e",
   "metadata": {},
   "source": [
    "🍰"
   ]
  },
  {
   "cell_type": "markdown",
   "id": "b00d089b-a51d-43f4-905a-d3b5b11311e5",
   "metadata": {},
   "source": [
    "---\n",
    "\n",
    "To upload the SQLite file:"
   ]
  },
  {
   "cell_type": "code",
   "execution_count": null,
   "id": "d6f2a536-2566-43a2-bc0f-ee31d9817afd",
   "metadata": {},
   "outputs": [],
   "source": [
    "fs.put(str(path_db), path_blob(path_db))"
   ]
  },
  {
   "cell_type": "code",
   "execution_count": null,
   "id": "09c3c918-6c9f-4d2d-9b79-78c4fd213bce",
   "metadata": {},
   "outputs": [],
   "source": [
    "fs.ls(CONTAINER)"
   ]
  }
 ],
 "metadata": {
  "kernelspec": {
   "display_name": "iot-hunters (Python)",
   "language": "python",
   "name": "conda-env-iot-hunters-py"
  },
  "language_info": {
   "codemirror_mode": {
    "name": "ipython",
    "version": 3
   },
   "file_extension": ".py",
   "mimetype": "text/x-python",
   "name": "python",
   "nbconvert_exporter": "python",
   "pygments_lexer": "ipython3",
   "version": "3.10.4"
  }
 },
 "nbformat": 4,
 "nbformat_minor": 5
}
